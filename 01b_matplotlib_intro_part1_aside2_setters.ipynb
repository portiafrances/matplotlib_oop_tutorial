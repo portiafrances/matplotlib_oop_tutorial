{
 "cells": [
  {
   "cell_type": "markdown",
   "metadata": {},
   "source": [
    "# Aside 2 - Matplotlib's setters, getters and properties"
   ]
  },
  {
   "cell_type": "markdown",
   "metadata": {},
   "source": [
    "Unlike other OOP-languages, *pythonic* Python generally does not use getter- and setter- methods. Instead *properties* are widely used. A pythonic programmer would expect to be able to set the properties for a Figure like this:\n",
    "\n",
    "`fig.facecolor = \"red\"` THIS DOES NOT WORK!\n",
    "\n",
    "Unfortunately this is not how the Matplotlib OOP-interface works. It DOES use getters and setters as above for MOST properties, but then again - not all.\n",
    "So remember, when using the OOP-interface, properties are set using setter functions, not assignments and assignments cause often weird error messages.\n",
    "\n",
    "To make things even more confusing the Pyplot interface often DOES often ue function names which are similiar to the OOP-interface names, but leaves out the getter and setter prefix.\n",
    "For example, to set the range of the x-axis in an Axes using the OOP-interface, you call:\n",
    "\n",
    "`ax.set_xlim(0,10)`\n",
    "\n",
    "whereas in the Pyplot interface you call:\n",
    "\n",
    "`plt.xlim(0,10)`\n",
    "\n",
    "which almost looks like a setting a property but is not.\n",
    "\n",
    "More often than not I find myself typing something like:\n",
    "\n",
    "`plt.xlim = (0,10)` THIS DOES NOT WORK!\n",
    "\n",
    "It is important to remember. Throughout Matplotlib most proeprties are set using *functions* not * assignment*.\n",
    "Repeat after me."
   ]
  },
  {
   "cell_type": "code",
   "execution_count": null,
   "metadata": {},
   "outputs": [],
   "source": []
  }
 ],
 "metadata": {
  "kernelspec": {
   "display_name": "Python 3",
   "language": "python",
   "name": "python3"
  },
  "language_info": {
   "codemirror_mode": {
    "name": "ipython",
    "version": 3
   },
   "file_extension": ".py",
   "mimetype": "text/x-python",
   "name": "python",
   "nbconvert_exporter": "python",
   "pygments_lexer": "ipython3",
   "version": "3.6.7"
  }
 },
 "nbformat": 4,
 "nbformat_minor": 4
}
