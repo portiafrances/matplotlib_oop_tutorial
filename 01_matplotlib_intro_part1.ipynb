{
 "cells": [
  {
   "cell_type": "markdown",
   "metadata": {},
   "source": [
    "# A thorough introduction to object-oriented Matplotlib - Part 1: Figures And Axes\n",
    "\n",
    "There must be a million tutorials on matplotlib out there.\n",
    "Most use Matplotlib's Pyplot interface, a stateful API, designed to look and feel like Matlab. It allows users to create simple graphs quickly and easily.\n",
    "\n",
    "However, whenever the resulting figure needs to be manipulated and changed, users have to resort to Matplotlib's object-oriented user-interface which tends to be more verbose and low-level, but is also more explicit.\n",
    "A result of these two APIs, lots of example code out there mixes the Pyplot- and the OOP-interface. This is even the case for Matplotlib's official tutorials on the Matplotlib website.\n",
    "\n",
    "Because one API is stateful and the other isn't, and because it is often unclear why one or the other version is used, this can turn out to be very confusing.\n",
    "For this reason, I decided to write this short into to Matplotlib's OOP-interface. I will try to stay as pure as possible."
   ]
  },
  {
   "cell_type": "markdown",
   "metadata": {},
   "source": [
    "## Matplotlib in general\n",
    "\n",
    "Matplotlib is one of the oldest Python visualisation libraries. Its first version dates back to 2003. It pre-dates the evolution of the Grammar of Graphics, D3, interactive browser- and Javascript-based libraries and for that reason its default output can look a bit dated.\n",
    "Matplotlib's APIs are often unpythonic, at times counterintuitive, and allow the user to do the same thing in many ways. Steps which are supposed to create similar outputs create slight differences from the way they are handled internally - and intransparently to the user. When this is the case, I will point it out.\n",
    "\n",
    "Matplotlib is still worth learning. Matplotlib is well supported, it is ubiquitous in Python world and a little knowledge and insight will take you far.\n",
    "\n",
    "This tutorial is here to help."
   ]
  },
  {
   "cell_type": "code",
   "execution_count": 1,
   "metadata": {},
   "outputs": [],
   "source": [
    "import matplotlib as mpl"
   ]
  },
  {
   "cell_type": "markdown",
   "metadata": {},
   "source": [
    "Note that we are not importing pyplot at all.\n",
    "There is no *import matplotlib.pyplot as plt* as in most tutorials."
   ]
  },
  {
   "cell_type": "code",
   "execution_count": 2,
   "metadata": {},
   "outputs": [],
   "source": [
    "%matplotlib inline"
   ]
  },
  {
   "cell_type": "markdown",
   "metadata": {},
   "source": [
    "For this tutorial we inline all graphs in the notebook. For choice of backends and their differences see Part 3 - Backends."
   ]
  },
  {
   "cell_type": "markdown",
   "metadata": {},
   "source": [
    "## The most important illustration of the Matplotlib API"
   ]
  },
  {
   "cell_type": "markdown",
   "metadata": {},
   "source": [
    "The best illustration of matplotlib's object hierarchy can be found in an old version of Matplotlib's documentation for version 1.5.\n",
    "\n",
    "[Matplotlib 1.5](https://matplotlib.org/1.5.1/faq/usage_faq.html#parts-of-a-figure)\n",
    "\n",
    "![Matplotlib_Figure](./img/matplotlib_figure_object_hierarchy.PNG)\n",
    "\n"
   ]
  },
  {
   "cell_type": "markdown",
   "metadata": {},
   "source": [
    "- Every Matplotlib plot is a *Figure*.\n",
    "- Every Figure contains *one or more Axes*. Note the \"e\". *Axes* not *axis*.\n",
    "- Every Axes contains *Axis*. Note the \"i\". Generally a *x-Axis* and *y-Axis*.\n",
    "- On the x- and y-Axis we can plot different *Artists*, such a a 2d-lineplot and others, more on that later."
   ]
  },
  {
   "cell_type": "markdown",
   "metadata": {},
   "source": [
    "Let's create each elements of a *Figure* in turn using only the OOP-interface."
   ]
  },
  {
   "cell_type": "markdown",
   "metadata": {},
   "source": [
    "## Figure\n",
    "\n",
    "Everything Matplotlib displays must be contained within a *Figure*. Creating a *Figure*-container is always the first step."
   ]
  },
  {
   "cell_type": "markdown",
   "metadata": {},
   "source": [
    "### Creating a Figure"
   ]
  },
  {
   "cell_type": "code",
   "execution_count": 3,
   "metadata": {},
   "outputs": [],
   "source": [
    "import matplotlib.figure"
   ]
  },
  {
   "cell_type": "markdown",
   "metadata": {},
   "source": [
    "Note that the submodule figure needs to be imported explicitely."
   ]
  },
  {
   "cell_type": "code",
   "execution_count": 4,
   "metadata": {},
   "outputs": [],
   "source": [
    "fig = matplotlib.figure.Figure()"
   ]
  },
  {
   "cell_type": "markdown",
   "metadata": {},
   "source": [
    "*Figure* takes a number of arguments to set basic properties of the *Figure*-container at creation. However, these can also be set after the creation.\n",
    "In order to see that parameters can be passed, who the full docstring for the figure using the ?-help function."
   ]
  },
  {
   "cell_type": "code",
   "execution_count": 5,
   "metadata": {},
   "outputs": [
    {
     "data": {
      "text/plain": [
       "\u001b[1;31mType:\u001b[0m           Figure\n",
       "\u001b[1;31mString form:\u001b[0m    Figure(432x288)\n",
       "\u001b[1;31mFile:\u001b[0m           c:\\miniconda3\\envs\\svass\\lib\\site-packages\\matplotlib\\figure.py\n",
       "\u001b[1;31mDocstring:\u001b[0m     \n",
       "The top level container for all the plot elements.\n",
       "\n",
       "The Figure instance supports callbacks through a *callbacks* attribute\n",
       "which is a `.CallbackRegistry` instance.  The events you can connect to\n",
       "are 'dpi_changed', and the callback will be called with ``func(fig)`` where\n",
       "fig is the `Figure` instance.\n",
       "\n",
       "Attributes\n",
       "----------\n",
       "patch\n",
       "    The `.Rectangle` instance representing the figure background patch.\n",
       "\n",
       "suppressComposite\n",
       "    For multiple figure images, the figure will make composite images\n",
       "    depending on the renderer option_image_nocomposite function.  If\n",
       "    *suppressComposite* is a boolean, this will override the renderer.\n",
       "\u001b[1;31mInit docstring:\u001b[0m\n",
       "Parameters\n",
       "----------\n",
       "figsize : 2-tuple of floats, default: :rc:`figure.figsize`\n",
       "    Figure dimension ``(width, height)`` in inches.\n",
       "\n",
       "dpi : float, default: :rc:`figure.dpi`\n",
       "    Dots per inch.\n",
       "\n",
       "facecolor : default: :rc:`figure.facecolor`\n",
       "    The figure patch facecolor.\n",
       "\n",
       "edgecolor : default: :rc:`figure.edgecolor`\n",
       "    The figure patch edge color.\n",
       "\n",
       "linewidth : float\n",
       "    The linewidth of the frame (i.e. the edge linewidth of the figure\n",
       "    patch).\n",
       "\n",
       "frameon : bool, default: :rc:`figure.frameon`\n",
       "    If ``False``, suppress drawing the figure background patch.\n",
       "\n",
       "subplotpars : :class:`SubplotParams`\n",
       "    Subplot parameters. If not given, the default subplot\n",
       "    parameters :rc:`figure.subplot.*` are used.\n",
       "\n",
       "tight_layout : bool or dict, default: :rc:`figure.autolayout`\n",
       "    If ``False`` use *subplotpars*. If ``True`` adjust subplot\n",
       "    parameters using `.tight_layout` with default padding.\n",
       "    When providing a dict containing the keys ``pad``, ``w_pad``,\n",
       "    ``h_pad``, and ``rect``, the default `.tight_layout` paddings\n",
       "    will be overridden.\n",
       "\n",
       "constrained_layout : bool\n",
       "    If ``True`` use constrained layout to adjust positioning of plot\n",
       "    elements.  Like ``tight_layout``, but designed to be more\n",
       "    flexible.  See\n",
       "    :doc:`/tutorials/intermediate/constrainedlayout_guide`\n",
       "    for examples.  (Note: does not work with :meth:`.subplot` or\n",
       "    :meth:`.subplot2grid`.)\n",
       "    Defaults to :rc:`figure.constrained_layout.use`.\n"
      ]
     },
     "metadata": {},
     "output_type": "display_data"
    }
   ],
   "source": [
    "fig?"
   ]
  },
  {
   "cell_type": "markdown",
   "metadata": {},
   "source": [
    "#### Figure parameters"
   ]
  },
  {
   "cell_type": "markdown",
   "metadata": {},
   "source": [
    "So the parameters are\n",
    "- figsize\n",
    "- dpi\n",
    "- facecolor\n",
    "- edgecolor\n",
    "- linewidth\n",
    "- frameon\n",
    "- subplotpars\n",
    "- tight_layout\n",
    "- constrinaed_layout"
   ]
  },
  {
   "cell_type": "markdown",
   "metadata": {},
   "source": [
    "#### Configuring *Figure* at creation\n",
    "\n",
    "When passing these parameters are creation, we can quickly set a basic configuration for the figure."
   ]
  },
  {
   "cell_type": "code",
   "execution_count": 6,
   "metadata": {},
   "outputs": [],
   "source": [
    "fig = matplotlib.figure.Figure(figsize=(5,5), facecolor='red', edgecolor='blue', linewidth=2)"
   ]
  },
  {
   "cell_type": "markdown",
   "metadata": {},
   "source": [
    "#### Configuring *Figure* with setters and getters\n",
    "\n",
    "Alternatively we can create *Figure* with default values, and set the values using the *Figure*'s setter methods."
   ]
  },
  {
   "cell_type": "code",
   "execution_count": 7,
   "metadata": {},
   "outputs": [],
   "source": [
    "fig.set_facecolor(\"red\")\n",
    "fig.set_edgecolor(\"blue\")\n",
    "fig.set_tight_layout(False)"
   ]
  },
  {
   "cell_type": "markdown",
   "metadata": {},
   "source": [
    "Not all parameter attributes have a setter method. E.g. there is no `fig.set_linewidth`, but there are other setters for attributes which cannot be set at creation time."
   ]
  },
  {
   "cell_type": "markdown",
   "metadata": {},
   "source": [
    "#### Aside 1: Matplotlib's setters and getters\n",
    "\n",
    "Unlike other OOP-languages, *pythonic* Python generally does not use getter- and setter- methods. Instead *properties* are widely used. A pythonic programmer would expect to be able to set the properties for a Figure like this:\n",
    "\n",
    "`fig.facecolor = \"red\"` THIS DOES NOT WORK!\n",
    "\n",
    "Unfortunately this is not how the Matplotlib OOP-interface works. It DOES use getters and setters as above for MOST properties, but then again - not all.\n",
    "So remember, when using the OOP-interface, properties are set using setter functions, not assignments and assignments cause often weird error messages.\n",
    "\n",
    "To make things even more confusing the Pyplot interface often DOES often ue function names which are similiar to the OOP-interface names, but leaves out the getter and setter prefix.\n",
    "For example, to set the range of the x-axis in an Axes using the OOP-interface, you call:\n",
    "\n",
    "`ax.set_xlim(0,10)`\n",
    "\n",
    "whereas in the Pyplot interface you call:\n",
    "\n",
    "`plt.xlim(0,10)`\n",
    "\n"
   ]
  },
  {
   "cell_type": "markdown",
   "metadata": {},
   "source": [
    "### Constitutents of an object\n",
    "\n",
    "A number of objects in matplotlib, have a generic method listing the objects consituents. This turns out to be rather useful, when exploring the state and makup of a figure. The method is called *get_children*."
   ]
  },
  {
   "cell_type": "code",
   "execution_count": 8,
   "metadata": {},
   "outputs": [
    {
     "data": {
      "text/plain": [
       "[<matplotlib.patches.Rectangle at 0x8031128>]"
      ]
     },
     "execution_count": 8,
     "metadata": {},
     "output_type": "execute_result"
    }
   ],
   "source": [
    "fig.get_children()"
   ]
  },
  {
   "cell_type": "markdown",
   "metadata": {},
   "source": [
    "The figure we created currently consists of only a *patch*-object"
   ]
  },
  {
   "cell_type": "markdown",
   "metadata": {},
   "source": [
    "### Showing the Figure"
   ]
  },
  {
   "cell_type": "markdown",
   "metadata": {},
   "source": [
    "Note that an empty figure - a figure which does not contain any *Axes* - cannot be displayed (in Jupyter)."
   ]
  },
  {
   "cell_type": "code",
   "execution_count": 9,
   "metadata": {},
   "outputs": [
    {
     "data": {
      "text/plain": [
       "<Figure size 360x360 with 0 Axes>"
      ]
     },
     "execution_count": 9,
     "metadata": {},
     "output_type": "execute_result"
    }
   ],
   "source": [
    "fig"
   ]
  },
  {
   "cell_type": "markdown",
   "metadata": {},
   "source": [
    "This simply returns a description of the *Figure*-object.\n",
    "We see that this *Figure* references 0 *Axes*. The figure is empty.\n",
    "\n",
    "We can verify this by calling the *Figure*'s get_axes method."
   ]
  },
  {
   "cell_type": "code",
   "execution_count": 10,
   "metadata": {},
   "outputs": [
    {
     "data": {
      "text/plain": [
       "[]"
      ]
     },
     "execution_count": 10,
     "metadata": {},
     "output_type": "execute_result"
    }
   ],
   "source": [
    "fig.get_axes()"
   ]
  },
  {
   "cell_type": "markdown",
   "metadata": {},
   "source": [
    "This does not prevent us from configuring the *Figure* a bit more. We already set the facecolor and the edgecolor properties.\n",
    "We can set a *Figure*-title.\n",
    "\n",
    "Note that some properties are set by *setter*-methods as above, others are set by calling direct methods.\n",
    "Generally the Matplotlib-API feels rather unpythonic in its use of getters and setters and using methods to set properties.\n",
    "\n",
    "A more pythonic interface would be something like:\n",
    "\n",
    "`fig.title = \"My Figure Title\"` THIS DOES NOT WORK!\n",
    "\n",
    "But unfortunately, this is not how it works.\n",
    "Instead we need to call the *suptitle*-method on the Figure-object. Note that is is not a *setter*-method like the ones above."
   ]
  },
  {
   "cell_type": "code",
   "execution_count": 11,
   "metadata": {},
   "outputs": [
    {
     "data": {
      "text/plain": [
       "Text(0.5, 0.98, 'My Figure Title')"
      ]
     },
     "execution_count": 11,
     "metadata": {},
     "output_type": "execute_result"
    }
   ],
   "source": [
    "fig.suptitle(\"My Figure Title\")"
   ]
  },
  {
   "cell_type": "markdown",
   "metadata": {},
   "source": [
    "The Figure-title can be positioned, manipulated, the font can be changed, etc by providing parameters to this methods.\n",
    "The tab-extension help is again of no uses, since it only references *kwargs, but again the ?-help is our friend for a view of the parameters."
   ]
  },
  {
   "cell_type": "code",
   "execution_count": 12,
   "metadata": {},
   "outputs": [
    {
     "data": {
      "text/plain": [
       "\u001b[1;31mSignature:\u001b[0m \u001b[0mfig\u001b[0m\u001b[1;33m.\u001b[0m\u001b[0msuptitle\u001b[0m\u001b[1;33m(\u001b[0m\u001b[0mt\u001b[0m\u001b[1;33m,\u001b[0m \u001b[1;33m**\u001b[0m\u001b[0mkwargs\u001b[0m\u001b[1;33m)\u001b[0m\u001b[1;33m\u001b[0m\u001b[1;33m\u001b[0m\u001b[0m\n",
       "\u001b[1;31mDocstring:\u001b[0m\n",
       "Add a centered title to the figure.\n",
       "\n",
       "Parameters\n",
       "----------\n",
       "t : str\n",
       "    The title text.\n",
       "\n",
       "x : float, default 0.5\n",
       "    The x location of the text in figure coordinates.\n",
       "\n",
       "y : float, default 0.98\n",
       "    The y location of the text in figure coordinates.\n",
       "\n",
       "horizontalalignment, ha : {'center', 'left', right'}, default: 'center'\n",
       "    The horizontal alignment of the text relative to (*x*, *y*).\n",
       "\n",
       "verticalalignment, va : {'top', 'center', 'bottom', 'baseline'}, default: 'top'\n",
       "    The vertical alignment of the text relative to (*x*, *y*).\n",
       "\n",
       "fontsize, size : default: :rc:`figure.titlesize`\n",
       "    The font size of the text. See `.Text.set_size` for possible\n",
       "    values.\n",
       "\n",
       "fontweight, weight : default: :rc:`figure.titleweight`\n",
       "    The font weight of the text. See `.Text.set_weight` for possible\n",
       "    values.\n",
       "\n",
       "\n",
       "Returns\n",
       "-------\n",
       "    text\n",
       "        The `.Text` instance of the title.\n",
       "\n",
       "\n",
       "Other Parameters\n",
       "----------------\n",
       "fontproperties : None or dict, optional\n",
       "    A dict of font properties. If *fontproperties* is given the\n",
       "    default values for font size and weight are taken from the\n",
       "    `FontProperties` defaults. :rc:`figure.titlesize` and\n",
       "    :rc:`figure.titleweight` are ignored in this case.\n",
       "\n",
       "**kwargs\n",
       "    Additional kwargs are :class:`matplotlib.text.Text` properties.\n",
       "\n",
       "\n",
       "Examples\n",
       "--------\n",
       ">>> fig.suptitle('This is the figure title', fontsize=12)\n",
       "\u001b[1;31mFile:\u001b[0m      c:\\miniconda3\\envs\\svass\\lib\\site-packages\\matplotlib\\figure.py\n",
       "\u001b[1;31mType:\u001b[0m      method\n"
      ]
     },
     "metadata": {},
     "output_type": "display_data"
    }
   ],
   "source": [
    "fig.suptitle?"
   ]
  },
  {
   "cell_type": "code",
   "execution_count": 13,
   "metadata": {},
   "outputs": [
    {
     "data": {
      "text/plain": [
       "[<matplotlib.patches.Rectangle at 0x8031128>,\n",
       " Text(0.5, 0.98, 'My Figure Title')]"
      ]
     },
     "execution_count": 13,
     "metadata": {},
     "output_type": "execute_result"
    }
   ],
   "source": [
    "fig.get_children()"
   ]
  },
  {
   "cell_type": "markdown",
   "metadata": {},
   "source": [
    "## Axes (not Axis!)\n",
    "\n",
    "For a *Figure* to be displayed in a notebook, it needs to have at least one Axes.\n",
    "Several *Axes* can be added to a *Figure*, which will be displayed as subplots to this figure.\n",
    "\n",
    "### Adding Axes\n",
    "\n",
    "An Axes can be added using the add_axes commend. The add_axes command takes as input a rectangle (a tuple of [left, bottom, width, height] ) which describes where exactly the new axes should be positioned within the *Figure*, expressed as a fraction of the *Figure* height and width.\n",
    "\n",
    "This can turn out to be a very tricky and complex way to position an Axes within a *Figure*."
   ]
  },
  {
   "cell_type": "code",
   "execution_count": 14,
   "metadata": {},
   "outputs": [
    {
     "data": {
      "text/plain": [
       "<matplotlib.axes._axes.Axes at 0x82a69b0>"
      ]
     },
     "execution_count": 14,
     "metadata": {},
     "output_type": "execute_result"
    }
   ],
   "source": [
    "fig.add_axes([0.3, 0.3, 0.3, 0.3], label=\"Direct Position Axes\")"
   ]
  },
  {
   "cell_type": "markdown",
   "metadata": {},
   "source": [
    "### Displaying Figure and Axes\n",
    "\n",
    "Since we added an Axes to the Figure, the Figure is no longer empty and can now be displayed on the backend.\n",
    "\n",
    "All parameters set on the Figure-instance earlier are now visible, e.g. the blue edges, the red background and the Figure title."
   ]
  },
  {
   "cell_type": "code",
   "execution_count": 15,
   "metadata": {},
   "outputs": [
    {
     "data": {
      "image/png": "[encoded data removed]",
      "text/plain": [
       "<Figure size 360x360 with 1 Axes>"
      ]
     },
     "execution_count": 15,
     "metadata": {},
     "output_type": "execute_result"
    }
   ],
   "source": [
    "fig"
   ]
  },
  {
   "cell_type": "markdown",
   "metadata": {},
   "source": [
    "The Figure and Axes look funny and misplaced. This is because we have mispositioned the new Axes within the Figure when we were providing the parameters for the the rectangle-argument for add_axes.\n",
    "It turns out positioneing the Axes via absoute positioning via the 'rectangle' methid above is too tricky."
   ]
  },
  {
   "cell_type": "markdown",
   "metadata": {},
   "source": [
    "### Adding A Subplot\n",
    "\n",
    "A better method to add an Axes to a Figure is using the add_subplot method. \n",
    "The difference between add_axes and add_subplot is that add_subplot takes care of the positioning of the axes in the Figure for us.\n",
    "\n",
    "Instead of requiring a position as 'a fraction of the figure', add_subplot takes a generic position within the Figure, expressed as a row and column parameter."
   ]
  },
  {
   "cell_type": "markdown",
   "metadata": {},
   "source": [
    "We need to remove the funny axes from the figure:"
   ]
  },
  {
   "cell_type": "code",
   "execution_count": 16,
   "metadata": {},
   "outputs": [],
   "source": [
    "def remove_all_axes(fig):\n",
    "    for ax in fig.get_axes():\n",
    "        ax.remove()"
   ]
  },
  {
   "cell_type": "code",
   "execution_count": 17,
   "metadata": {},
   "outputs": [
    {
     "data": {
      "text/plain": [
       "<Figure size 360x360 with 0 Axes>"
      ]
     },
     "execution_count": 17,
     "metadata": {},
     "output_type": "execute_result"
    }
   ],
   "source": [
    "remove_all_axes(fig)\n",
    "fig"
   ]
  },
  {
   "cell_type": "markdown",
   "metadata": {},
   "source": [
    "The figure no longer has any Axes.\n",
    "\n",
    "Let's add a subplot."
   ]
  },
  {
   "cell_type": "code",
   "execution_count": 18,
   "metadata": {},
   "outputs": [
    {
     "data": {
      "text/plain": [
       "[]"
      ]
     },
     "execution_count": 18,
     "metadata": {},
     "output_type": "execute_result"
    }
   ],
   "source": [
    "fig.get_axes()"
   ]
  },
  {
   "cell_type": "markdown",
   "metadata": {},
   "source": [
    "An Axis is added with the add_sub_plot command."
   ]
  },
  {
   "cell_type": "code",
   "execution_count": 19,
   "metadata": {},
   "outputs": [
    {
     "data": {
      "text/plain": [
       "<matplotlib.axes._subplots.AxesSubplot at 0x8031470>"
      ]
     },
     "execution_count": 19,
     "metadata": {},
     "output_type": "execute_result"
    }
   ],
   "source": [
    "fig.add_subplot()"
   ]
  },
  {
   "cell_type": "markdown",
   "metadata": {},
   "source": [
    "The add_subplot command returns a reference to an Axes in the figure. \n",
    "There are a few ways to get a reference to this Axes instance."
   ]
  },
  {
   "cell_type": "code",
   "execution_count": 20,
   "metadata": {},
   "outputs": [
    {
     "data": {
      "text/plain": [
       "<matplotlib.axes._subplots.AxesSubplot at 0x83990f0>"
      ]
     },
     "execution_count": 20,
     "metadata": {},
     "output_type": "execute_result"
    }
   ],
   "source": [
    "ax = fig.add_subplot(1,2,1)\n",
    "ax"
   ]
  },
  {
   "cell_type": "code",
   "execution_count": 21,
   "metadata": {},
   "outputs": [
    {
     "data": {
      "text/plain": [
       "[<matplotlib.axes._subplots.AxesSubplot at 0x8031470>,\n",
       " <matplotlib.axes._subplots.AxesSubplot at 0x83990f0>]"
      ]
     },
     "execution_count": 21,
     "metadata": {},
     "output_type": "execute_result"
    }
   ],
   "source": [
    "fig.get_axes()"
   ]
  },
  {
   "cell_type": "markdown",
   "metadata": {},
   "source": [
    "We see that the Figure contains a collection of Axes.\n",
    "\n",
    "add_subplot takes as positional parameters\n",
    "\n",
    "- a row identifier\n",
    "- a column identifier\n",
    "- an index reference\n",
    "\n",
    "This can be provided explicitly, or shortened as a 3-digit number.\n",
    "\n",
    "When called without parameters, it *defaults to 111*."
   ]
  },
  {
   "cell_type": "code",
   "execution_count": 22,
   "metadata": {},
   "outputs": [],
   "source": [
    "ax = fig.get_axes()[0]"
   ]
  },
  {
   "cell_type": "code",
   "execution_count": 23,
   "metadata": {},
   "outputs": [
    {
     "data": {
      "text/plain": [
       "(1, 1)"
      ]
     },
     "execution_count": 23,
     "metadata": {},
     "output_type": "execute_result"
    }
   ],
   "source": [
    "ax.numCols, ax.numRows"
   ]
  },
  {
   "cell_type": "markdown",
   "metadata": {},
   "source": [
    "Let's start from scratch removing all axes and specifying the subplot explicitly by providing parameters."
   ]
  },
  {
   "cell_type": "code",
   "execution_count": 24,
   "metadata": {},
   "outputs": [
    {
     "data": {
      "text/plain": [
       "<matplotlib.axes._subplots.AxesSubplot at 0x83c7550>"
      ]
     },
     "execution_count": 24,
     "metadata": {},
     "output_type": "execute_result"
    }
   ],
   "source": [
    "remove_all_axes(fig)\n",
    "fig.add_subplot(1, 1, 1)\n",
    "# this can be shortened by matplotlib convention to fig.add_subplot(111)"
   ]
  },
  {
   "cell_type": "markdown",
   "metadata": {},
   "source": [
    "It gives us a warning, explaining that an axes with this reference has already been added. This is because add_subplot() without parameters defaults to \"111\"."
   ]
  },
  {
   "cell_type": "code",
   "execution_count": 25,
   "metadata": {},
   "outputs": [
    {
     "data": {
      "text/plain": [
       "\u001b[1;31mSignature:\u001b[0m \u001b[0mfig\u001b[0m\u001b[1;33m.\u001b[0m\u001b[0madd_subplot\u001b[0m\u001b[1;33m(\u001b[0m\u001b[1;33m*\u001b[0m\u001b[0margs\u001b[0m\u001b[1;33m,\u001b[0m \u001b[1;33m**\u001b[0m\u001b[0mkwargs\u001b[0m\u001b[1;33m)\u001b[0m\u001b[1;33m\u001b[0m\u001b[1;33m\u001b[0m\u001b[0m\n",
       "\u001b[1;31mDocstring:\u001b[0m\n",
       "Add an `~.axes.Axes` to the figure as part of a subplot arrangement.\n",
       "\n",
       "Call signatures::\n",
       "\n",
       "   add_subplot(nrows, ncols, index, **kwargs)\n",
       "   add_subplot(pos, **kwargs)\n",
       "   add_subplot(ax)\n",
       "   add_subplot()\n",
       "\n",
       "Parameters\n",
       "----------\n",
       "*args\n",
       "    Either a 3-digit integer or three separate integers\n",
       "    describing the position of the subplot. If the three\n",
       "    integers are *nrows*, *ncols*, and *index* in order, the\n",
       "    subplot will take the *index* position on a grid with *nrows*\n",
       "    rows and *ncols* columns. *index* starts at 1 in the upper left\n",
       "    corner and increases to the right.\n",
       "\n",
       "    *pos* is a three digit integer, where the first digit is the\n",
       "    number of rows, the second the number of columns, and the third\n",
       "    the index of the subplot. i.e. fig.add_subplot(235) is the same as\n",
       "    fig.add_subplot(2, 3, 5). Note that all integers must be less than\n",
       "    10 for this form to work.\n",
       "\n",
       "    If no positional arguments are passed, defaults to (1, 1, 1).\n",
       "\n",
       "    In rare circumstances, `.add_subplot` may be called with a single\n",
       "    argument, a subplot axes instance already created in the\n",
       "    present figure but not in the figure's list of axes.\n",
       "\n",
       "projection : {None, 'aitoff', 'hammer', 'lambert', 'mollweide', 'polar', 'rectilinear', str}, optional\n",
       "    The projection type of the subplot (`~.axes.Axes`). *str* is the\n",
       "    name of a custom projection, see `~matplotlib.projections`. The\n",
       "    default None results in a 'rectilinear' projection.\n",
       "\n",
       "polar : boolean, optional\n",
       "    If True, equivalent to projection='polar'.\n",
       "\n",
       "sharex, sharey : `~.axes.Axes`, optional\n",
       "    Share the x or y `~matplotlib.axis` with sharex and/or sharey.\n",
       "    The axis will have the same limits, ticks, and scale as the axis\n",
       "    of the shared axes.\n",
       "\n",
       "label : str\n",
       "    A label for the returned axes.\n",
       "\n",
       "Other Parameters\n",
       "----------------\n",
       "**kwargs\n",
       "    This method also takes the keyword arguments for the returned axes\n",
       "    base class; except for the *figure* argument. The keyword arguments\n",
       "    for the rectilinear base class `~.axes.Axes` can be found in\n",
       "    the following table but there might also be other keyword\n",
       "    arguments if another projection is used.\n",
       "\n",
       "    Properties:\n",
       "    adjustable: {'box', 'datalim'}\n",
       "    agg_filter: a filter function, which takes a (m, n, 3) float array and a dpi value, and returns a (m, n, 3) array\n",
       "    alpha: float or None\n",
       "    anchor: 2-tuple of floats or {'C', 'SW', 'S', 'SE', ...}\n",
       "    animated: bool\n",
       "    aspect: {'auto', 'equal'} or num\n",
       "    autoscale_on: bool\n",
       "    autoscalex_on: bool\n",
       "    autoscaley_on: bool\n",
       "    axes_locator: Callable[[Axes, Renderer], Bbox]\n",
       "    axisbelow: bool or 'line'\n",
       "    clip_box: `.Bbox`\n",
       "    clip_on: bool\n",
       "    clip_path: Patch or (Path, Transform) or None\n",
       "    contains: callable\n",
       "    facecolor: color\n",
       "    fc: color\n",
       "    figure: `.Figure`\n",
       "    frame_on: bool\n",
       "    gid: str\n",
       "    in_layout: bool\n",
       "    label: object\n",
       "    navigate: bool\n",
       "    navigate_mode: unknown\n",
       "    path_effects: `.AbstractPathEffect`\n",
       "    picker: None or bool or float or callable\n",
       "    position: [left, bottom, width, height] or `~matplotlib.transforms.Bbox`\n",
       "    prop_cycle: unknown\n",
       "    rasterization_zorder: float or None\n",
       "    rasterized: bool or None\n",
       "    sketch_params: (scale: float, length: float, randomness: float)\n",
       "    snap: bool or None\n",
       "    title: str\n",
       "    transform: `.Transform`\n",
       "    url: str\n",
       "    visible: bool\n",
       "    xbound: unknown\n",
       "    xlabel: str\n",
       "    xlim: (bottom: float, top: float)\n",
       "    xmargin: float greater than -0.5\n",
       "    xscale: {\"linear\", \"log\", \"symlog\", \"logit\", ...}\n",
       "    xticklabels: List[str]\n",
       "    xticks: unknown\n",
       "    ybound: unknown\n",
       "    ylabel: str\n",
       "    ylim: (bottom: float, top: float)\n",
       "    ymargin: float greater than -0.5\n",
       "    yscale: {\"linear\", \"log\", \"symlog\", \"logit\", ...}\n",
       "    yticklabels: List[str]\n",
       "    yticks: unknown\n",
       "    zorder: float\n",
       "\n",
       "Returns\n",
       "-------\n",
       "axes : `.axes.SubplotBase`, or another subclass of `~.axes.Axes`\n",
       "\n",
       "    The axes of the subplot. The returned axes base class depends on\n",
       "    the projection used. It is `~.axes.Axes` if rectilinear projection\n",
       "    are used and `.projections.polar.PolarAxes` if polar projection\n",
       "    are used. The returned axes is then a subplot subclass of the\n",
       "    base class.\n",
       "\n",
       "Notes\n",
       "-----\n",
       "If the figure already has a subplot with key (*args*,\n",
       "*kwargs*) then it will simply make that subplot current and\n",
       "return it.  This behavior is deprecated. Meanwhile, if you do\n",
       "not want this behavior (i.e., you want to force the creation of a\n",
       "new subplot), you must use a unique set of args and kwargs.  The axes\n",
       "*label* attribute has been exposed for this purpose: if you want\n",
       "two subplots that are otherwise identical to be added to the figure,\n",
       "make sure you give them unique labels.\n",
       "\n",
       "See Also\n",
       "--------\n",
       ".Figure.add_axes\n",
       ".pyplot.subplot\n",
       ".pyplot.axes\n",
       ".Figure.subplots\n",
       ".pyplot.subplots\n",
       "\n",
       "Examples\n",
       "--------\n",
       "::\n",
       "\n",
       "    fig = plt.figure()\n",
       "    fig.add_subplot(221)\n",
       "\n",
       "    # equivalent but more general\n",
       "    ax1 = fig.add_subplot(2, 2, 1)\n",
       "\n",
       "    # add a subplot with no frame\n",
       "    ax2 = fig.add_subplot(222, frameon=False)\n",
       "\n",
       "    # add a polar subplot\n",
       "    fig.add_subplot(223, projection='polar')\n",
       "\n",
       "    # add a red subplot that share the x-axis with ax1\n",
       "    fig.add_subplot(224, sharex=ax1, facecolor='red')\n",
       "\n",
       "    #delete x2 from the figure\n",
       "    fig.delaxes(ax2)\n",
       "\n",
       "    #add x2 to the figure again\n",
       "    fig.add_subplot(ax2)\n",
       "\u001b[1;31mFile:\u001b[0m      c:\\ubs\\dev\\miniconda3\\envs\\svass\\lib\\site-packages\\matplotlib\\figure.py\n",
       "\u001b[1;31mType:\u001b[0m      method\n"
      ]
     },
     "metadata": {},
     "output_type": "display_data"
    }
   ],
   "source": [
    "fig.add_subplot?"
   ]
  },
  {
   "cell_type": "code",
   "execution_count": 26,
   "metadata": {},
   "outputs": [
    {
     "data": {
      "image/png": "[encoded data removed]",
      "text/plain": [
       "<Figure size 360x360 with 1 Axes>"
      ]
     },
     "execution_count": 26,
     "metadata": {},
     "output_type": "execute_result"
    }
   ],
   "source": [
    "fig"
   ]
  },
  {
   "cell_type": "markdown",
   "metadata": {},
   "source": [
    "Let's set some properties on the Axes object, to show how it differs from the Figure object."
   ]
  },
  {
   "cell_type": "code",
   "execution_count": 27,
   "metadata": {},
   "outputs": [],
   "source": [
    "# Get reference to the first axes in the axes colletion.\n",
    "ax1 = fig.get_axes()[0]"
   ]
  },
  {
   "cell_type": "code",
   "execution_count": 28,
   "metadata": {},
   "outputs": [],
   "source": [
    "ax1.set_facecolor('green')\n",
    "ax1.set_title(\"First Axes\")\n",
    "ax1.grid(True)"
   ]
  },
  {
   "cell_type": "code",
   "execution_count": 29,
   "metadata": {},
   "outputs": [
    {
     "data": {
      "image/png": "[encoded data removed]",
      "text/plain": [
       "<Figure size 360x360 with 1 Axes>"
      ]
     },
     "execution_count": 29,
     "metadata": {},
     "output_type": "execute_result"
    }
   ],
   "source": [
    "fig"
   ]
  },
  {
   "cell_type": "markdown",
   "metadata": {},
   "source": [
    "We add a second Axes to this Figure. \n",
    "We want to show it underneath this Axes, so it will be in row 2, column 1, with the index 2."
   ]
  },
  {
   "cell_type": "code",
   "execution_count": 30,
   "metadata": {},
   "outputs": [
    {
     "data": {
      "text/plain": [
       "<matplotlib.axes._subplots.AxesSubplot at 0x838def0>"
      ]
     },
     "execution_count": 30,
     "metadata": {},
     "output_type": "execute_result"
    }
   ],
   "source": [
    "ax2 = fig.add_subplot(2, 1, 2)\n",
    "ax2"
   ]
  },
  {
   "cell_type": "code",
   "execution_count": 31,
   "metadata": {},
   "outputs": [
    {
     "data": {
      "image/png": "[encoded data removed]",
      "text/plain": [
       "<Figure size 360x360 with 2 Axes>"
      ]
     },
     "execution_count": 31,
     "metadata": {},
     "output_type": "execute_result"
    }
   ],
   "source": [
    "fig"
   ]
  },
  {
   "cell_type": "markdown",
   "metadata": {},
   "source": [
    "And set some attributes on the second Axes."
   ]
  },
  {
   "cell_type": "code",
   "execution_count": 32,
   "metadata": {},
   "outputs": [],
   "source": [
    "ax2.set_facecolor('yellow')\n",
    "ax2.set_title(\"Second Axes\")\n",
    "ax2.grid(True)"
   ]
  },
  {
   "cell_type": "code",
   "execution_count": 33,
   "metadata": {},
   "outputs": [
    {
     "data": {
      "image/png": "[encoded data removed]",
      "text/plain": [
       "<Figure size 360x360 with 2 Axes>"
      ]
     },
     "execution_count": 33,
     "metadata": {},
     "output_type": "execute_result"
    }
   ],
   "source": [
    "fig"
   ]
  },
  {
   "cell_type": "markdown",
   "metadata": {},
   "source": [
    "There are some issues.\n",
    "The Second Axes is now on top of the First Axes.\n",
    "\n",
    "We remove them and try a differrent way."
   ]
  },
  {
   "cell_type": "code",
   "execution_count": 34,
   "metadata": {},
   "outputs": [
    {
     "data": {
      "text/plain": [
       "<Figure size 360x360 with 0 Axes>"
      ]
     },
     "execution_count": 34,
     "metadata": {},
     "output_type": "execute_result"
    }
   ],
   "source": [
    "remove_all_axes(fig)\n",
    "fig"
   ]
  },
  {
   "cell_type": "markdown",
   "metadata": {},
   "source": [
    "Using the subplots (note the s) method, we can add several Axes/subplots to the figure in one step.\n",
    "An effect of this approach is that the subplots are more sensibly positioned in the *Figure*."
   ]
  },
  {
   "cell_type": "code",
   "execution_count": 35,
   "metadata": {},
   "outputs": [],
   "source": [
    "ax1, ax2 = fig.subplots(2,1)"
   ]
  },
  {
   "cell_type": "code",
   "execution_count": 36,
   "metadata": {},
   "outputs": [
    {
     "data": {
      "image/png": "[encoded data removed]",
      "text/plain": [
       "<Figure size 360x360 with 2 Axes>"
      ]
     },
     "execution_count": 36,
     "metadata": {},
     "output_type": "execute_result"
    }
   ],
   "source": [
    "fig"
   ]
  },
  {
   "cell_type": "code",
   "execution_count": 37,
   "metadata": {},
   "outputs": [
    {
     "data": {
      "image/png": "[encoded data removed]",
      "text/plain": [
       "<Figure size 360x360 with 2 Axes>"
      ]
     },
     "execution_count": 37,
     "metadata": {},
     "output_type": "execute_result"
    }
   ],
   "source": [
    "ax1.set_facecolor('green')\n",
    "ax1.set_title(\"First Axes\")\n",
    "ax1.grid(True)\n",
    "ax2.set_facecolor('yellow')\n",
    "ax2.set_title(\"Second Axes\")\n",
    "ax2.grid(True)\n",
    "fig"
   ]
  },
  {
   "cell_type": "code",
   "execution_count": 38,
   "metadata": {},
   "outputs": [],
   "source": [
    "fig.tight_layout(pad=3)"
   ]
  },
  {
   "cell_type": "code",
   "execution_count": 39,
   "metadata": {},
   "outputs": [
    {
     "data": {
      "image/png": "[encoded data removed]",
      "text/plain": [
       "<Figure size 360x360 with 2 Axes>"
      ]
     },
     "execution_count": 39,
     "metadata": {},
     "output_type": "execute_result"
    }
   ],
   "source": [
    "fig"
   ]
  },
  {
   "cell_type": "code",
   "execution_count": 40,
   "metadata": {},
   "outputs": [],
   "source": [
    "ax = fig.get_axes()[1]"
   ]
  },
  {
   "cell_type": "code",
   "execution_count": 41,
   "metadata": {},
   "outputs": [],
   "source": [
    "fig.delaxes(ax)"
   ]
  },
  {
   "cell_type": "code",
   "execution_count": 42,
   "metadata": {},
   "outputs": [
    {
     "data": {
      "image/png": "[encoded data removed]",
      "text/plain": [
       "<Figure size 360x360 with 1 Axes>"
      ]
     },
     "execution_count": 42,
     "metadata": {},
     "output_type": "execute_result"
    }
   ],
   "source": [
    "fig"
   ]
  },
  {
   "cell_type": "code",
   "execution_count": 43,
   "metadata": {},
   "outputs": [
    {
     "data": {
      "text/plain": [
       "<matplotlib.axes._subplots.AxesSubplot at 0x8459f60>"
      ]
     },
     "execution_count": 43,
     "metadata": {},
     "output_type": "execute_result"
    }
   ],
   "source": [
    "ax1"
   ]
  },
  {
   "cell_type": "code",
   "execution_count": 44,
   "metadata": {},
   "outputs": [
    {
     "data": {
      "text/plain": [
       "[<matplotlib.axes._subplots.AxesSubplot at 0x8459f60>]"
      ]
     },
     "execution_count": 44,
     "metadata": {},
     "output_type": "execute_result"
    }
   ],
   "source": [
    "fig.get_axes()"
   ]
  },
  {
   "cell_type": "markdown",
   "metadata": {},
   "source": [
    "## Working with an Axe\n",
    "\n",
    "On the axe we can draw our graph. We can specify x-axis and y-axis, what we want to chart.\n",
    "\n",
    "To illustrate we need some sample data."
   ]
  },
  {
   "cell_type": "code",
   "execution_count": 49,
   "metadata": {},
   "outputs": [
    {
     "data": {
      "text/plain": [
       "['a', 'b', 'c', 'd', 'e', 'f', 'g', 'h', 'i', 'j']"
      ]
     },
     "execution_count": 49,
     "metadata": {},
     "output_type": "execute_result"
    }
   ],
   "source": [
    "x = list(\"abcdefghij\")\n",
    "x"
   ]
  },
  {
   "cell_type": "code",
   "execution_count": 50,
   "metadata": {},
   "outputs": [
    {
     "data": {
      "text/plain": [
       "[0, 1, 2, 3, 4, 5, 6, 7, 8, 9]"
      ]
     },
     "execution_count": 50,
     "metadata": {},
     "output_type": "execute_result"
    }
   ],
   "source": [
    "y = list(range(10))\n",
    "y"
   ]
  },
  {
   "cell_type": "code",
   "execution_count": 51,
   "metadata": {},
   "outputs": [
    {
     "data": {
      "text/plain": [
       "<BarContainer object of 10 artists>"
      ]
     },
     "execution_count": 51,
     "metadata": {},
     "output_type": "execute_result"
    }
   ],
   "source": [
    "ax1.bar(x=x, height=y)"
   ]
  },
  {
   "cell_type": "code",
   "execution_count": 52,
   "metadata": {},
   "outputs": [
    {
     "data": {
      "image/png": "[encoded data removed]",
      "text/plain": [
       "<Figure size 360x360 with 1 Axes>"
      ]
     },
     "execution_count": 52,
     "metadata": {},
     "output_type": "execute_result"
    }
   ],
   "source": [
    "fig"
   ]
  },
  {
   "cell_type": "code",
   "execution_count": 53,
   "metadata": {},
   "outputs": [
    {
     "data": {
      "text/plain": [
       "<BarContainer object of 10 artists>"
      ]
     },
     "execution_count": 53,
     "metadata": {},
     "output_type": "execute_result"
    }
   ],
   "source": [
    "ax1.bar(x=x, height=[n*2 for n in y])"
   ]
  },
  {
   "cell_type": "code",
   "execution_count": 54,
   "metadata": {},
   "outputs": [
    {
     "data": {
      "image/png": "[encoded data removed]",
      "text/plain": [
       "<Figure size 360x360 with 1 Axes>"
      ]
     },
     "execution_count": 54,
     "metadata": {},
     "output_type": "execute_result"
    }
   ],
   "source": [
    "fig"
   ]
  },
  {
   "cell_type": "code",
   "execution_count": 55,
   "metadata": {},
   "outputs": [
    {
     "data": {
      "text/plain": [
       "[<matplotlib.patches.Rectangle at 0x875c668>,\n",
       " <matplotlib.patches.Rectangle at 0x875ce10>,\n",
       " <matplotlib.patches.Rectangle at 0x875b438>,\n",
       " <matplotlib.patches.Rectangle at 0x87580b8>,\n",
       " <matplotlib.patches.Rectangle at 0x8758710>,\n",
       " <matplotlib.patches.Rectangle at 0x87584a8>,\n",
       " <matplotlib.patches.Rectangle at 0x84a7c50>,\n",
       " <matplotlib.patches.Rectangle at 0x8756f28>,\n",
       " <matplotlib.patches.Rectangle at 0x8756dd8>,\n",
       " <matplotlib.patches.Rectangle at 0x8756160>,\n",
       " <matplotlib.patches.Rectangle at 0x8756ac8>,\n",
       " <matplotlib.patches.Rectangle at 0x8749dd8>,\n",
       " <matplotlib.patches.Rectangle at 0x8783b70>,\n",
       " <matplotlib.patches.Rectangle at 0x8788240>,\n",
       " <matplotlib.patches.Rectangle at 0x87884a8>,\n",
       " <matplotlib.patches.Rectangle at 0x8788860>,\n",
       " <matplotlib.patches.Rectangle at 0x8788b38>,\n",
       " <matplotlib.patches.Rectangle at 0x8788e80>,\n",
       " <matplotlib.patches.Rectangle at 0x87880b8>,\n",
       " <matplotlib.patches.Rectangle at 0x8783978>,\n",
       " <matplotlib.patches.Rectangle at 0x8795a90>,\n",
       " <matplotlib.patches.Rectangle at 0x8747908>,\n",
       " <matplotlib.patches.Rectangle at 0x8795898>,\n",
       " <matplotlib.patches.Rectangle at 0x87588d0>,\n",
       " <matplotlib.patches.Rectangle at 0x875ce48>,\n",
       " <matplotlib.patches.Rectangle at 0x875eeb8>,\n",
       " <matplotlib.patches.Rectangle at 0x875e400>,\n",
       " <matplotlib.patches.Rectangle at 0x875e358>,\n",
       " <matplotlib.patches.Rectangle at 0x8749908>,\n",
       " <matplotlib.patches.Rectangle at 0x873aa58>,\n",
       " <matplotlib.spines.Spine at 0x849ca20>,\n",
       " <matplotlib.spines.Spine at 0x849cbe0>,\n",
       " <matplotlib.spines.Spine at 0x849c128>,\n",
       " <matplotlib.spines.Spine at 0x849c0f0>,\n",
       " <matplotlib.axis.XAxis at 0x849c908>,\n",
       " <matplotlib.axis.YAxis at 0x84a04a8>,\n",
       " Text(0.5, 1.0, 'First Axes'),\n",
       " Text(0.0, 1.0, ''),\n",
       " Text(1.0, 1.0, ''),\n",
       " <matplotlib.patches.Rectangle at 0x849c358>]"
      ]
     },
     "execution_count": 55,
     "metadata": {},
     "output_type": "execute_result"
    }
   ],
   "source": [
    "ax1.get_children()"
   ]
  },
  {
   "cell_type": "code",
   "execution_count": 56,
   "metadata": {},
   "outputs": [],
   "source": [
    "ax1.set_alpha(1)"
   ]
  },
  {
   "cell_type": "code",
   "execution_count": 57,
   "metadata": {},
   "outputs": [
    {
     "data": {
      "text/plain": [
       "1"
      ]
     },
     "execution_count": 57,
     "metadata": {},
     "output_type": "execute_result"
    }
   ],
   "source": [
    "ax1.get_alpha()"
   ]
  },
  {
   "cell_type": "code",
   "execution_count": 58,
   "metadata": {},
   "outputs": [
    {
     "data": {
      "image/png": "[encoded data removed]",
      "text/plain": [
       "<Figure size 360x360 with 1 Axes>"
      ]
     },
     "execution_count": 58,
     "metadata": {},
     "output_type": "execute_result"
    }
   ],
   "source": [
    "fig"
   ]
  },
  {
   "cell_type": "code",
   "execution_count": 59,
   "metadata": {},
   "outputs": [
    {
     "data": {
      "text/plain": [
       "[<matplotlib.patches.Rectangle at 0x8031128>,\n",
       " <matplotlib.axes._subplots.AxesSubplot at 0x8459f60>,\n",
       " Text(0.5, 0.98, 'My Figure Title')]"
      ]
     },
     "execution_count": 59,
     "metadata": {},
     "output_type": "execute_result"
    }
   ],
   "source": [
    "fig.get_children()"
   ]
  },
  {
   "cell_type": "markdown",
   "metadata": {},
   "source": [
    "In this Part 1 of this Matplotlib OOP-introduction we focused on the top level Matplotlib object-hierarchy and the relationship between Figure and Axes.\n",
    "In Part 2 we will look at Axes more closely, and start plotting several *Artists* on the same Axes and using different x-axis and y-axis on the same Axis or sharing x- and y-axis between Axes in the same Figure."
   ]
  },
  {
   "cell_type": "code",
   "execution_count": null,
   "metadata": {},
   "outputs": [],
   "source": []
  }
 ],
 "metadata": {
  "kernelspec": {
   "display_name": "Python 3",
   "language": "python",
   "name": "python3"
  },
  "language_info": {
   "codemirror_mode": {
    "name": "ipython",
    "version": 3
   },
   "file_extension": ".py",
   "mimetype": "text/x-python",
   "name": "python",
   "nbconvert_exporter": "python",
   "pygments_lexer": "ipython3",
   "version": "3.6.7"
  }
 },
 "nbformat": 4,
 "nbformat_minor": 4
}
